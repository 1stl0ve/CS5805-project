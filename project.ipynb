{
 "cells": [
  {
   "cell_type": "markdown",
   "id": "d2117c31-a31d-48d3-9290-c0a0887e78e0",
   "metadata": {},
   "source": [
    "# Project"
   ]
  },
  {
   "cell_type": "code",
   "execution_count": null,
   "id": "ac1adcd3",
   "metadata": {},
   "outputs": [],
   "source": [
    "from sklearn.linear_models import LinearRegression\n",
    "import tensorflow as tf\n",
    "from tensorflow.keras.models import Sequential\n",
    "from tensorflow.keras.layers import LSTM, Dense\n",
    "\n"
   ]
  },
  {
   "cell_type": "code",
   "execution_count": null,
   "id": "aa21b006",
   "metadata": {},
   "outputs": [],
   "source": [
    "# Set up data sets"
   ]
  },
  {
   "cell_type": "code",
   "execution_count": null,
   "id": "a708e671",
   "metadata": {},
   "outputs": [],
   "source": [
    "lr = LinearRegression()\n",
    "lr.fit(data)\n",
    "predictions = lr.predict(data)"
   ]
  }
 ],
 "metadata": {
  "kernelspec": {
   "display_name": "Python 3 (ipykernel)",
   "language": "python",
   "name": "python3"
  },
  "language_info": {
   "codemirror_mode": {
    "name": "ipython",
    "version": 3
   },
   "file_extension": ".py",
   "mimetype": "text/x-python",
   "name": "python",
   "nbconvert_exporter": "python",
   "pygments_lexer": "ipython3",
   "version": "3.10.12"
  }
 },
 "nbformat": 4,
 "nbformat_minor": 5
}
