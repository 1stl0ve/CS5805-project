{
 "cells": [
  {
   "cell_type": "markdown",
   "id": "d2117c31-a31d-48d3-9290-c0a0887e78e0",
   "metadata": {},
   "source": [
    "# Project"
   ]
  },
  {
   "cell_type": "markdown",
   "id": "02714725-0225-432a-96f8-745e558485a9",
   "metadata": {},
   "source": [
    "ChatGPT helped write the code required for using the `scikit-learn` and `tensorflow` implementations."
   ]
  },
  {
   "cell_type": "code",
   "execution_count": 1,
   "id": "ac1adcd3",
   "metadata": {},
   "outputs": [],
   "source": [
    "import pandas as pd\n",
    "import numpy as np\n",
    "import matplotlib.pyplot as plt"
   ]
  },
  {
   "cell_type": "code",
   "execution_count": 7,
   "id": "aa21b006",
   "metadata": {},
   "outputs": [],
   "source": [
    "# Set up data sets\n",
    "from sklearn.linear_model import LinearRegression\n",
    "from sklearn.metrics import mean_squared_error\n",
    "from sklearn.model_selection import train_test_split\n",
    "from sklearn.preprocessing import MinMaxScaler\n",
    "\n",
    "data = pd.read_csv('AAPL.csv')\n",
    "data = data.sort_values('Date')\n",
    "prices = data[['Open', 'Close']].values\n",
    "\n",
    "# Scale data\n",
    "scaler = MinMaxScaler(feature_range=(0, 1))\n",
    "scaled_prices = scaler.fit_transform(prices)\n",
    "\n",
    "# Split data\n",
    "train_size = int(len(scaled_prices) * 0.7)\n",
    "val_size = int(len(scaled_prices) * 0.1)\n",
    "\n",
    "train_data = scaled_prices[:train_size]\n",
    "val_data = scaled_prices[train_size:train_size + val_size]\n",
    "test_data = scaled_prices[train_size + val_size:]\n",
    "X_train, Y_train = train_data[:, 0].reshape(-1,1), train_data[:, 1]\n",
    "X_val, Y_val = val_data[:, 0].reshape(-1,1), val_data[:, 1]\n",
    "X_test, Y_test = test_data[:, 0].reshape(-1,1), test_data[:, 1]"
   ]
  },
  {
   "cell_type": "code",
   "execution_count": 3,
   "id": "a708e671",
   "metadata": {},
   "outputs": [
    {
     "data": {
      "text/plain": [
       "3.774818960511147e-06"
      ]
     },
     "execution_count": 3,
     "metadata": {},
     "output_type": "execute_result"
    }
   ],
   "source": [
    "lr = LinearRegression()\n",
    "lr.fit(X_train, Y_train)\n",
    "predictions = lr.predict(X_val)\n",
    "mean_squared_error(Y_val, predictions)"
   ]
  },
  {
   "cell_type": "markdown",
   "id": "cb1ba702-b116-4e6f-8f24-c906a1fec428",
   "metadata": {},
   "source": [
    "https://pieriantraining.com/tensorflow-lstm-example-a-beginners-guide/"
   ]
  },
  {
   "cell_type": "code",
   "execution_count": 6,
   "id": "b5ce7eca-f6d1-4901-ba70-89aeb50f711e",
   "metadata": {},
   "outputs": [
    {
     "name": "stdout",
     "output_type": "stream",
     "text": [
      "Epoch 1/50\n"
     ]
    },
    {
     "name": "stderr",
     "output_type": "stream",
     "text": [
      "/usr/local/lib/python3.10/dist-packages/keras/src/layers/rnn/rnn.py:204: UserWarning: Do not pass an `input_shape`/`input_dim` argument to a layer. When using Sequential models, prefer using an `Input(shape)` object as the first layer in the model instead.\n",
      "  super().__init__(**kwargs)\n"
     ]
    },
    {
     "name": "stdout",
     "output_type": "stream",
     "text": [
      "\u001b[1m215/215\u001b[0m \u001b[32m━━━━━━━━━━━━━━━━━━━━\u001b[0m\u001b[37m\u001b[0m \u001b[1m5s\u001b[0m 17ms/step - loss: 7.9049e-05 - val_loss: 2.6408e-04\n",
      "Epoch 2/50\n",
      "\u001b[1m215/215\u001b[0m \u001b[32m━━━━━━━━━━━━━━━━━━━━\u001b[0m\u001b[37m\u001b[0m \u001b[1m3s\u001b[0m 14ms/step - loss: 1.3975e-06 - val_loss: 1.6061e-04\n",
      "Epoch 3/50\n",
      "\u001b[1m215/215\u001b[0m \u001b[32m━━━━━━━━━━━━━━━━━━━━\u001b[0m\u001b[37m\u001b[0m \u001b[1m3s\u001b[0m 14ms/step - loss: 2.7200e-06 - val_loss: 1.5706e-04\n",
      "Epoch 4/50\n",
      "\u001b[1m215/215\u001b[0m \u001b[32m━━━━━━━━━━━━━━━━━━━━\u001b[0m\u001b[37m\u001b[0m \u001b[1m3s\u001b[0m 15ms/step - loss: 1.1075e-06 - val_loss: 4.7775e-04\n",
      "Epoch 5/50\n",
      "\u001b[1m215/215\u001b[0m \u001b[32m━━━━━━━━━━━━━━━━━━━━\u001b[0m\u001b[37m\u001b[0m \u001b[1m3s\u001b[0m 14ms/step - loss: 1.6211e-06 - val_loss: 2.3303e-04\n",
      "Epoch 6/50\n",
      "\u001b[1m215/215\u001b[0m \u001b[32m━━━━━━━━━━━━━━━━━━━━\u001b[0m\u001b[37m\u001b[0m \u001b[1m3s\u001b[0m 14ms/step - loss: 1.1303e-06 - val_loss: 2.3711e-04\n",
      "Epoch 7/50\n",
      "\u001b[1m215/215\u001b[0m \u001b[32m━━━━━━━━━━━━━━━━━━━━\u001b[0m\u001b[37m\u001b[0m \u001b[1m3s\u001b[0m 14ms/step - loss: 1.2050e-06 - val_loss: 2.3031e-04\n",
      "Epoch 8/50\n",
      "\u001b[1m215/215\u001b[0m \u001b[32m━━━━━━━━━━━━━━━━━━━━\u001b[0m\u001b[37m\u001b[0m \u001b[1m3s\u001b[0m 14ms/step - loss: 9.1870e-07 - val_loss: 2.4061e-04\n",
      "\u001b[1m61/61\u001b[0m \u001b[32m━━━━━━━━━━━━━━━━━━━━\u001b[0m\u001b[37m\u001b[0m \u001b[1m0s\u001b[0m 5ms/step - loss: 0.0016  \n",
      "Test Loss (MSE): 0.003111442783847451\n",
      "\u001b[1m61/61\u001b[0m \u001b[32m━━━━━━━━━━━━━━━━━━━━\u001b[0m\u001b[37m\u001b[0m \u001b[1m0s\u001b[0m 6ms/step\n"
     ]
    },
    {
     "data": {
      "image/png": "[encoded data removed]",
      "text/plain": [
       "<Figure size 432x288 with 1 Axes>"
      ]
     },
     "metadata": {
      "needs_background": "light"
     },
     "output_type": "display_data"
    }
   ],
   "source": [
    "from sklearn.preprocessing import MinMaxScaler\n",
    "from tensorflow.keras.models import Sequential\n",
    "from tensorflow.keras.layers import LSTM, Dense\n",
    "from tensorflow.keras.optimizers import Adam\n",
    "from keras.callbacks import EarlyStopping\n",
    "\n",
    "train_data = scaled_prices[:train_size]\n",
    "val_data = scaled_prices[train_size:train_size + val_size]\n",
    "test_data = scaled_prices[train_size + val_size:]\n",
    "\n",
    "def create_sequences(data, sequence_length=60):\n",
    "    X, y = [], []\n",
    "    for i in range(len(data) - sequence_length):\n",
    "        X.append(data[i:i + sequence_length, 0])  # Using 'open' price as input\n",
    "        y.append(data[i + sequence_length, 1])    # Predict 'close' price\n",
    "    return np.array(X), np.array(y)\n",
    "\n",
    "sequence_length = 60  # Number of days in each sequence\n",
    "X_train, Y_train = create_sequences(train_data, sequence_length)\n",
    "X_val, Y_val = create_sequences(val_data, sequence_length)\n",
    "X_test, Y_test = create_sequences(test_data, sequence_length)\n",
    "\n",
    "# Reshape for LSTM [samples, time steps, features]\n",
    "X_train = X_train.reshape((X_train.shape[0], X_train.shape[1], 1))\n",
    "X_val = X_val.reshape((X_val.shape[0], X_val.shape[1], 1))\n",
    "X_test = X_test.reshape((X_test.shape[0], X_test.shape[1], 1))\n",
    "\n",
    "model = Sequential([\n",
    "    LSTM(50, activation='relu', input_shape=(sequence_length, 1)),\n",
    "    Dense(1)  # Predicting a single value (close price)\n",
    "])\n",
    "\n",
    "model.compile(optimizer=Adam(learning_rate=0.001), loss='mse')\n",
    "\n",
    "early_stopping = EarlyStopping(monitor='val_loss', patience=5, restore_best_weights=True)\n",
    "history = model.fit(\n",
    "    X_train, Y_train,\n",
    "    epochs=50,\n",
    "    batch_size=32,\n",
    "    validation_data=(X_val, Y_val),\n",
    "    verbose=1,\n",
    "    callbacks=[early_stopping]\n",
    ")\n",
    "\n",
    "test_loss = model.evaluate(X_test, Y_test, verbose=1)\n",
    "print(f'Test Loss (MSE): {test_loss}')\n",
    "\n",
    "# Predict and inverse transform for interpretability\n",
    "predicted = model.predict(X_test)\n",
    "predicted = scaler.inverse_transform(np.concatenate([np.zeros((predicted.shape[0], 1)), predicted], axis=1))[:, 1]\n",
    "actual = scaler.inverse_transform(np.concatenate([np.zeros((Y_test.shape[0], 1)), Y_test.reshape(-1, 1)], axis=1))[:, 1]\n",
    "\n",
    "# Optional: Plot results\n",
    "import matplotlib.pyplot as plt\n",
    "plt.plot(actual, label='Actual Closing Price')\n",
    "plt.plot(predicted, label='Predicted Closing Price')\n",
    "plt.legend()\n",
    "plt.show()"
   ]
  }
 ],
 "metadata": {
  "kernelspec": {
   "display_name": "Python 3 (ipykernel)",
   "language": "python",
   "name": "python3"
  },
  "language_info": {
   "codemirror_mode": {
    "name": "ipython",
    "version": 3
   },
   "file_extension": ".py",
   "mimetype": "text/x-python",
   "name": "python",
   "nbconvert_exporter": "python",
   "pygments_lexer": "ipython3",
   "version": "3.10.12"
  }
 },
 "nbformat": 4,
 "nbformat_minor": 5
}
