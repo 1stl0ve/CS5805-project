{
 "cells": [
  {
   "cell_type": "markdown",
   "id": "d2117c31-a31d-48d3-9290-c0a0887e78e0",
   "metadata": {},
   "source": [
    "# Project"
   ]
  },
  {
   "cell_type": "markdown",
   "id": "02714725-0225-432a-96f8-745e558485a9",
   "metadata": {},
   "source": [
    "ChatGPT helped write the code required for using the `scikit-learn` and `tensorflow` implementations."
   ]
  },
  {
   "cell_type": "code",
   "execution_count": 1,
   "id": "ac1adcd3",
   "metadata": {},
   "outputs": [],
   "source": [
    "import pandas as pd\n",
    "import numpy as np\n",
    "import matplotlib.pyplot as plt"
   ]
  },
  {
   "cell_type": "code",
   "execution_count": 108,
   "id": "aa21b006",
   "metadata": {},
   "outputs": [],
   "source": [
    "# Set up data sets\n",
    "from sklearn.linear_model import LinearRegression\n",
    "from sklearn.metrics import mean_squared_error\n",
    "from sklearn.model_selection import train_test_split\n",
    "from sklearn.preprocessing import MinMaxScaler\n",
    "\n",
    "data = pd.read_csv('MSFT.csv')\n",
    "data = data.sort_values('Date')\n",
    "#prices = data[['Open', 'Close']].values\n",
    "prices = data[['Open', 'Low', 'High', 'Close']].values\n",
    "\n",
    "num_features = len(prices[0]) - 1\n",
    "\n",
    "# Scale data\n",
    "scaler = MinMaxScaler(feature_range=(0, 1))\n",
    "scaled_prices = scaler.fit_transform(prices)\n",
    "\n",
    "# Split data\n",
    "train_size = int(len(scaled_prices) * 0.7)\n",
    "val_size = int(len(scaled_prices) * 0.1)\n",
    "\n",
    "train_data = scaled_prices[:train_size]\n",
    "val_data = scaled_prices[train_size:train_size + val_size]\n",
    "test_data = scaled_prices[train_size + val_size:]\n",
    "X_train, Y_train = train_data[:, :num_features].reshape(-1,num_features), train_data[:, num_features]\n",
    "X_val, Y_val = val_data[:, :num_features].reshape(-1,num_features), val_data[:, num_features]\n",
    "X_test, Y_test = test_data[:, :num_features].reshape(-1,num_features), test_data[:, num_features]"
   ]
  },
  {
   "cell_type": "code",
   "execution_count": 109,
   "id": "a708e671",
   "metadata": {},
   "outputs": [
    {
     "name": "stdout",
     "output_type": "stream",
     "text": [
      "CPU times: user 5.37 ms, sys: 3.83 ms, total: 9.21 ms\n",
      "Wall time: 7.54 ms\n"
     ]
    },
    {
     "data": {
      "text/plain": [
       "1.0247603305562238e-05"
      ]
     },
     "execution_count": 109,
     "metadata": {},
     "output_type": "execute_result"
    }
   ],
   "source": [
    "%%time\n",
    "lr = LinearRegression()\n",
    "lr.fit(X_train, Y_train)\n",
    "predicted = lr.predict(X_test)\n",
    "mean_squared_error(Y_test, predicted)"
   ]
  },
  {
   "cell_type": "code",
   "execution_count": 110,
   "id": "0e67a579-24ae-48f6-ab4f-4f445fcbe466",
   "metadata": {},
   "outputs": [
    {
     "data": {
      "image/png": "[encoded data removed]",
      "text/plain": [
       "<Figure size 432x288 with 1 Axes>"
      ]
     },
     "metadata": {
      "needs_background": "light"
     },
     "output_type": "display_data"
    }
   ],
   "source": [
    "predicted = lr.predict(X_test)\n",
    "zeros = np.zeros((predicted.shape[0], num_features))\n",
    "data_to_inverse = np.concatenate([zeros, predicted.reshape(-1, 1)], axis=1)\n",
    "predicted = scaler.inverse_transform(data_to_inverse)[:, num_features]\n",
    "actual = scaler.inverse_transform(np.concatenate([np.zeros((Y_test.shape[0], num_features)), Y_test.reshape(-1, 1)], axis=1))[:, num_features]\n",
    "\n",
    "import matplotlib.pyplot as plt\n",
    "plt.plot(actual, label='Actual Closing Price')\n",
    "plt.plot(predicted, label='Predicted Closing Price')\n",
    "plt.legend()\n",
    "plt.show()"
   ]
  },
  {
   "cell_type": "markdown",
   "id": "cb1ba702-b116-4e6f-8f24-c906a1fec428",
   "metadata": {},
   "source": [
    "https://pieriantraining.com/tensorflow-lstm-example-a-beginners-guide/"
   ]
  },
  {
   "cell_type": "code",
   "execution_count": 111,
   "id": "b5ce7eca-f6d1-4901-ba70-89aeb50f711e",
   "metadata": {},
   "outputs": [
    {
     "name": "stdout",
     "output_type": "stream",
     "text": [
      "Epoch 1/50\n"
     ]
    },
    {
     "name": "stderr",
     "output_type": "stream",
     "text": [
      "/usr/local/lib/python3.10/dist-packages/keras/src/layers/rnn/rnn.py:204: UserWarning: Do not pass an `input_shape`/`input_dim` argument to a layer. When using Sequential models, prefer using an `Input(shape)` object as the first layer in the model instead.\n",
      "  super().__init__(**kwargs)\n"
     ]
    },
    {
     "name": "stdout",
     "output_type": "stream",
     "text": [
      "\u001b[1m186/186\u001b[0m \u001b[32m━━━━━━━━━━━━━━━━━━━━\u001b[0m\u001b[37m\u001b[0m \u001b[1m4s\u001b[0m 16ms/step - loss: 0.0018 - val_loss: 1.2719e-05\n",
      "Epoch 2/50\n",
      "\u001b[1m186/186\u001b[0m \u001b[32m━━━━━━━━━━━━━━━━━━━━\u001b[0m\u001b[37m\u001b[0m \u001b[1m3s\u001b[0m 15ms/step - loss: 2.2902e-05 - val_loss: 1.2602e-05\n",
      "Epoch 3/50\n",
      "\u001b[1m186/186\u001b[0m \u001b[32m━━━━━━━━━━━━━━━━━━━━\u001b[0m\u001b[37m\u001b[0m \u001b[1m3s\u001b[0m 15ms/step - loss: 1.9118e-05 - val_loss: 1.2386e-05\n",
      "Epoch 4/50\n",
      "\u001b[1m186/186\u001b[0m \u001b[32m━━━━━━━━━━━━━━━━━━━━\u001b[0m\u001b[37m\u001b[0m \u001b[1m3s\u001b[0m 15ms/step - loss: 2.0899e-05 - val_loss: 1.2063e-05\n",
      "Epoch 5/50\n",
      "\u001b[1m186/186\u001b[0m \u001b[32m━━━━━━━━━━━━━━━━━━━━\u001b[0m\u001b[37m\u001b[0m \u001b[1m3s\u001b[0m 15ms/step - loss: 2.0645e-05 - val_loss: 2.5697e-05\n",
      "Epoch 6/50\n",
      "\u001b[1m186/186\u001b[0m \u001b[32m━━━━━━━━━━━━━━━━━━━━\u001b[0m\u001b[37m\u001b[0m \u001b[1m3s\u001b[0m 14ms/step - loss: 2.1381e-05 - val_loss: 1.6681e-05\n",
      "Epoch 7/50\n",
      "\u001b[1m186/186\u001b[0m \u001b[32m━━━━━━━━━━━━━━━━━━━━\u001b[0m\u001b[37m\u001b[0m \u001b[1m3s\u001b[0m 15ms/step - loss: 1.8198e-05 - val_loss: 9.6789e-06\n",
      "Epoch 8/50\n",
      "\u001b[1m186/186\u001b[0m \u001b[32m━━━━━━━━━━━━━━━━━━━━\u001b[0m\u001b[37m\u001b[0m \u001b[1m3s\u001b[0m 15ms/step - loss: 1.8655e-05 - val_loss: 9.4326e-06\n",
      "Epoch 9/50\n",
      "\u001b[1m186/186\u001b[0m \u001b[32m━━━━━━━━━━━━━━━━━━━━\u001b[0m\u001b[37m\u001b[0m \u001b[1m3s\u001b[0m 15ms/step - loss: 1.6920e-05 - val_loss: 2.3972e-05\n",
      "Epoch 10/50\n",
      "\u001b[1m186/186\u001b[0m \u001b[32m━━━━━━━━━━━━━━━━━━━━\u001b[0m\u001b[37m\u001b[0m \u001b[1m3s\u001b[0m 15ms/step - loss: 1.6559e-05 - val_loss: 9.9529e-06\n",
      "Epoch 11/50\n",
      "\u001b[1m186/186\u001b[0m \u001b[32m━━━━━━━━━━━━━━━━━━━━\u001b[0m\u001b[37m\u001b[0m \u001b[1m3s\u001b[0m 16ms/step - loss: 1.8824e-05 - val_loss: 8.8433e-06\n",
      "Epoch 12/50\n",
      "\u001b[1m186/186\u001b[0m \u001b[32m━━━━━━━━━━━━━━━━━━━━\u001b[0m\u001b[37m\u001b[0m \u001b[1m3s\u001b[0m 16ms/step - loss: 1.8393e-05 - val_loss: 1.0459e-05\n",
      "Epoch 13/50\n",
      "\u001b[1m186/186\u001b[0m \u001b[32m━━━━━━━━━━━━━━━━━━━━\u001b[0m\u001b[37m\u001b[0m \u001b[1m3s\u001b[0m 16ms/step - loss: 1.5791e-05 - val_loss: 9.2177e-06\n",
      "Epoch 14/50\n",
      "\u001b[1m186/186\u001b[0m \u001b[32m━━━━━━━━━━━━━━━━━━━━\u001b[0m\u001b[37m\u001b[0m \u001b[1m3s\u001b[0m 16ms/step - loss: 1.6002e-05 - val_loss: 1.1085e-05\n",
      "Epoch 15/50\n",
      "\u001b[1m186/186\u001b[0m \u001b[32m━━━━━━━━━━━━━━━━━━━━\u001b[0m\u001b[37m\u001b[0m \u001b[1m3s\u001b[0m 17ms/step - loss: 1.5294e-05 - val_loss: 8.7364e-06\n",
      "Epoch 16/50\n",
      "\u001b[1m186/186\u001b[0m \u001b[32m━━━━━━━━━━━━━━━━━━━━\u001b[0m\u001b[37m\u001b[0m \u001b[1m3s\u001b[0m 18ms/step - loss: 1.5836e-05 - val_loss: 1.4525e-05\n",
      "Epoch 17/50\n",
      "\u001b[1m186/186\u001b[0m \u001b[32m━━━━━━━━━━━━━━━━━━━━\u001b[0m\u001b[37m\u001b[0m \u001b[1m3s\u001b[0m 18ms/step - loss: 1.5477e-05 - val_loss: 2.4194e-05\n",
      "Epoch 18/50\n",
      "\u001b[1m186/186\u001b[0m \u001b[32m━━━━━━━━━━━━━━━━━━━━\u001b[0m\u001b[37m\u001b[0m \u001b[1m3s\u001b[0m 17ms/step - loss: 1.6747e-05 - val_loss: 8.5623e-06\n",
      "Epoch 19/50\n",
      "\u001b[1m186/186\u001b[0m \u001b[32m━━━━━━━━━━━━━━━━━━━━\u001b[0m\u001b[37m\u001b[0m \u001b[1m3s\u001b[0m 17ms/step - loss: 1.5425e-05 - val_loss: 1.0621e-05\n",
      "Epoch 20/50\n",
      "\u001b[1m186/186\u001b[0m \u001b[32m━━━━━━━━━━━━━━━━━━━━\u001b[0m\u001b[37m\u001b[0m \u001b[1m3s\u001b[0m 16ms/step - loss: 1.2274e-05 - val_loss: 8.0412e-06\n",
      "Epoch 21/50\n",
      "\u001b[1m186/186\u001b[0m \u001b[32m━━━━━━━━━━━━━━━━━━━━\u001b[0m\u001b[37m\u001b[0m \u001b[1m5s\u001b[0m 29ms/step - loss: 1.3374e-05 - val_loss: 1.1727e-05\n",
      "Epoch 22/50\n",
      "\u001b[1m186/186\u001b[0m \u001b[32m━━━━━━━━━━━━━━━━━━━━\u001b[0m\u001b[37m\u001b[0m \u001b[1m6s\u001b[0m 32ms/step - loss: 1.2940e-05 - val_loss: 9.4130e-06\n",
      "Epoch 23/50\n",
      "\u001b[1m186/186\u001b[0m \u001b[32m━━━━━━━━━━━━━━━━━━━━\u001b[0m\u001b[37m\u001b[0m \u001b[1m6s\u001b[0m 32ms/step - loss: 1.2536e-05 - val_loss: 7.0870e-06\n",
      "Epoch 24/50\n",
      "\u001b[1m186/186\u001b[0m \u001b[32m━━━━━━━━━━━━━━━━━━━━\u001b[0m\u001b[37m\u001b[0m \u001b[1m6s\u001b[0m 34ms/step - loss: 1.3164e-05 - val_loss: 9.3881e-06\n",
      "Epoch 25/50\n",
      "\u001b[1m186/186\u001b[0m \u001b[32m━━━━━━━━━━━━━━━━━━━━\u001b[0m\u001b[37m\u001b[0m \u001b[1m6s\u001b[0m 31ms/step - loss: 1.5056e-05 - val_loss: 6.8703e-06\n",
      "Epoch 26/50\n",
      "\u001b[1m186/186\u001b[0m \u001b[32m━━━━━━━━━━━━━━━━━━━━\u001b[0m\u001b[37m\u001b[0m \u001b[1m6s\u001b[0m 30ms/step - loss: 1.1975e-05 - val_loss: 8.6413e-06\n",
      "Epoch 27/50\n",
      "\u001b[1m186/186\u001b[0m \u001b[32m━━━━━━━━━━━━━━━━━━━━\u001b[0m\u001b[37m\u001b[0m \u001b[1m6s\u001b[0m 30ms/step - loss: 1.1676e-05 - val_loss: 9.7096e-06\n",
      "Epoch 28/50\n",
      "\u001b[1m186/186\u001b[0m \u001b[32m━━━━━━━━━━━━━━━━━━━━\u001b[0m\u001b[37m\u001b[0m \u001b[1m5s\u001b[0m 28ms/step - loss: 1.1831e-05 - val_loss: 6.5013e-06\n",
      "Epoch 29/50\n",
      "\u001b[1m186/186\u001b[0m \u001b[32m━━━━━━━━━━━━━━━━━━━━\u001b[0m\u001b[37m\u001b[0m \u001b[1m5s\u001b[0m 27ms/step - loss: 1.1251e-05 - val_loss: 9.9010e-06\n",
      "Epoch 30/50\n",
      "\u001b[1m186/186\u001b[0m \u001b[32m━━━━━━━━━━━━━━━━━━━━\u001b[0m\u001b[37m\u001b[0m \u001b[1m5s\u001b[0m 28ms/step - loss: 1.0546e-05 - val_loss: 2.4159e-05\n",
      "Epoch 31/50\n",
      "\u001b[1m186/186\u001b[0m \u001b[32m━━━━━━━━━━━━━━━━━━━━\u001b[0m\u001b[37m\u001b[0m \u001b[1m5s\u001b[0m 28ms/step - loss: 1.2605e-05 - val_loss: 6.2502e-06\n",
      "Epoch 32/50\n",
      "\u001b[1m186/186\u001b[0m \u001b[32m━━━━━━━━━━━━━━━━━━━━\u001b[0m\u001b[37m\u001b[0m \u001b[1m5s\u001b[0m 28ms/step - loss: 1.1006e-05 - val_loss: 8.2094e-06\n",
      "Epoch 33/50\n",
      "\u001b[1m186/186\u001b[0m \u001b[32m━━━━━━━━━━━━━━━━━━━━\u001b[0m\u001b[37m\u001b[0m \u001b[1m5s\u001b[0m 27ms/step - loss: 1.1407e-05 - val_loss: 7.6864e-06\n",
      "Epoch 34/50\n",
      "\u001b[1m186/186\u001b[0m \u001b[32m━━━━━━━━━━━━━━━━━━━━\u001b[0m\u001b[37m\u001b[0m \u001b[1m5s\u001b[0m 27ms/step - loss: 1.1674e-05 - val_loss: 1.1644e-05\n",
      "Epoch 35/50\n",
      "\u001b[1m186/186\u001b[0m \u001b[32m━━━━━━━━━━━━━━━━━━━━\u001b[0m\u001b[37m\u001b[0m \u001b[1m6s\u001b[0m 31ms/step - loss: 1.1148e-05 - val_loss: 6.0759e-06\n",
      "Epoch 36/50\n",
      "\u001b[1m186/186\u001b[0m \u001b[32m━━━━━━━━━━━━━━━━━━━━\u001b[0m\u001b[37m\u001b[0m \u001b[1m5s\u001b[0m 29ms/step - loss: 1.1497e-05 - val_loss: 8.0163e-06\n",
      "Epoch 37/50\n",
      "\u001b[1m186/186\u001b[0m \u001b[32m━━━━━━━━━━━━━━━━━━━━\u001b[0m\u001b[37m\u001b[0m \u001b[1m3s\u001b[0m 18ms/step - loss: 1.1587e-05 - val_loss: 5.8351e-06\n",
      "Epoch 38/50\n",
      "\u001b[1m186/186\u001b[0m \u001b[32m━━━━━━━━━━━━━━━━━━━━\u001b[0m\u001b[37m\u001b[0m \u001b[1m3s\u001b[0m 15ms/step - loss: 9.6780e-06 - val_loss: 7.3013e-06\n",
      "Epoch 39/50\n",
      "\u001b[1m186/186\u001b[0m \u001b[32m━━━━━━━━━━━━━━━━━━━━\u001b[0m\u001b[37m\u001b[0m \u001b[1m3s\u001b[0m 15ms/step - loss: 1.0055e-05 - val_loss: 5.5961e-06\n",
      "Epoch 40/50\n",
      "\u001b[1m186/186\u001b[0m \u001b[32m━━━━━━━━━━━━━━━━━━━━\u001b[0m\u001b[37m\u001b[0m \u001b[1m3s\u001b[0m 15ms/step - loss: 1.1626e-05 - val_loss: 5.7316e-06\n",
      "Epoch 41/50\n",
      "\u001b[1m186/186\u001b[0m \u001b[32m━━━━━━━━━━━━━━━━━━━━\u001b[0m\u001b[37m\u001b[0m \u001b[1m3s\u001b[0m 15ms/step - loss: 9.7815e-06 - val_loss: 9.7879e-06\n",
      "Epoch 42/50\n",
      "\u001b[1m186/186\u001b[0m \u001b[32m━━━━━━━━━━━━━━━━━━━━\u001b[0m\u001b[37m\u001b[0m \u001b[1m3s\u001b[0m 15ms/step - loss: 1.1541e-05 - val_loss: 1.6570e-05\n",
      "Epoch 43/50\n",
      "\u001b[1m186/186\u001b[0m \u001b[32m━━━━━━━━━━━━━━━━━━━━\u001b[0m\u001b[37m\u001b[0m \u001b[1m3s\u001b[0m 16ms/step - loss: 1.0709e-05 - val_loss: 6.1928e-06\n",
      "Epoch 44/50\n",
      "\u001b[1m186/186\u001b[0m \u001b[32m━━━━━━━━━━━━━━━━━━━━\u001b[0m\u001b[37m\u001b[0m \u001b[1m3s\u001b[0m 15ms/step - loss: 1.1304e-05 - val_loss: 9.0430e-06\n",
      "\u001b[1m52/52\u001b[0m \u001b[32m━━━━━━━━━━━━━━━━━━━━\u001b[0m\u001b[37m\u001b[0m \u001b[1m0s\u001b[0m 5ms/step - loss: 8.1195e-05\n",
      "Test Loss (MSE): 0.0005287107196636498\n",
      "\u001b[1m52/52\u001b[0m \u001b[32m━━━━━━━━━━━━━━━━━━━━\u001b[0m\u001b[37m\u001b[0m \u001b[1m0s\u001b[0m 7ms/step\n"
     ]
    },
    {
     "data": {
      "image/png": "[encoded data removed]",
      "text/plain": [
       "<Figure size 432x288 with 1 Axes>"
      ]
     },
     "metadata": {
      "needs_background": "light"
     },
     "output_type": "display_data"
    },
    {
     "name": "stdout",
     "output_type": "stream",
     "text": [
      "CPU times: user 7min 42s, sys: 38.3 s, total: 8min 21s\n",
      "Wall time: 2min 52s\n"
     ]
    }
   ],
   "source": [
    "%%time\n",
    "from sklearn.preprocessing import MinMaxScaler\n",
    "from tensorflow.keras.models import Sequential\n",
    "from tensorflow.keras.layers import LSTM, Dense\n",
    "from tensorflow.keras.optimizers import Adam\n",
    "from keras.callbacks import EarlyStopping\n",
    "\n",
    "train_data = scaled_prices[:train_size]\n",
    "val_data = scaled_prices[train_size:train_size + val_size]\n",
    "test_data = scaled_prices[train_size + val_size:]\n",
    "\n",
    "def create_sequences(data, sequence_length=60):\n",
    "    X, y = [], []\n",
    "    for i in range(len(data) - sequence_length):\n",
    "        X.append(data[i:i + sequence_length, :num_features])  # Using 'open' price as input\n",
    "        y.append(data[i + sequence_length, num_features])    # Predict 'close' price\n",
    "    return np.array(X), np.array(y)\n",
    "\n",
    "sequence_length = 60  # Number of days in each sequence\n",
    "X_train, Y_train = create_sequences(train_data, sequence_length)\n",
    "X_val, Y_val = create_sequences(val_data, sequence_length)\n",
    "X_test, Y_test = create_sequences(test_data, sequence_length)\n",
    "\n",
    "# Reshape for LSTM [samples, time steps, features]\n",
    "X_train = X_train.reshape((X_train.shape[0], X_train.shape[1], num_features))\n",
    "X_val = X_val.reshape((X_val.shape[0], X_val.shape[1], num_features))\n",
    "X_test = X_test.reshape((X_test.shape[0], X_test.shape[1], num_features))\n",
    "\n",
    "model = Sequential([\n",
    "    LSTM(50, activation='relu', input_shape=(sequence_length, num_features)),\n",
    "    Dense(1)  # Predicting a single value (close price)\n",
    "])\n",
    "\n",
    "model.compile(optimizer=Adam(learning_rate=0.001), loss='mse')\n",
    "\n",
    "early_stopping = EarlyStopping(monitor='val_loss', patience=5, restore_best_weights=True)\n",
    "history = model.fit(\n",
    "    X_train, Y_train,\n",
    "    epochs=50,\n",
    "    batch_size=32,\n",
    "    validation_data=(X_val, Y_val),\n",
    "    verbose=1,\n",
    "    callbacks=[early_stopping]\n",
    ")\n",
    "\n",
    "test_loss = model.evaluate(X_test, Y_test, verbose=1)\n",
    "print(f'Test Loss (MSE): {test_loss}')\n",
    "\n",
    "# Predict and inverse transform for interpretability\n",
    "predicted = model.predict(X_test)\n",
    "predicted = scaler.inverse_transform(np.concatenate([np.zeros((predicted.shape[0], num_features)), predicted], axis=1))[:, num_features]\n",
    "actual = scaler.inverse_transform(np.concatenate([np.zeros((Y_test.shape[0], num_features)), Y_test.reshape(-1, 1)], axis=1))[:, num_features]\n",
    "\n",
    "# Optional: Plot results\n",
    "import matplotlib.pyplot as plt\n",
    "plt.plot(actual, label='Actual Closing Price')\n",
    "plt.plot(predicted, label='Predicted Closing Price')\n",
    "plt.legend()\n",
    "plt.show()"
   ]
  }
 ],
 "metadata": {
  "kernelspec": {
   "display_name": "Python 3 (ipykernel)",
   "language": "python",
   "name": "python3"
  },
  "language_info": {
   "codemirror_mode": {
    "name": "ipython",
    "version": 3
   },
   "file_extension": ".py",
   "mimetype": "text/x-python",
   "name": "python",
   "nbconvert_exporter": "python",
   "pygments_lexer": "ipython3",
   "version": "3.10.12"
  }
 },
 "nbformat": 4,
 "nbformat_minor": 5
}
