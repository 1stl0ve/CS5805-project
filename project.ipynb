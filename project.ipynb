{
 "cells": [
  {
   "cell_type": "markdown",
   "id": "d2117c31-a31d-48d3-9290-c0a0887e78e0",
   "metadata": {},
   "source": [
    "# Project"
   ]
  },
  {
   "cell_type": "code",
   "execution_count": 7,
   "id": "ac1adcd3",
   "metadata": {},
   "outputs": [],
   "source": [
    "import pandas as pd\n",
    "import numpy as np\n",
    "import matplotlib.pyplot as plt"
   ]
  },
  {
   "cell_type": "code",
   "execution_count": 11,
   "id": "aa21b006",
   "metadata": {},
   "outputs": [],
   "source": [
    "# Set up data sets\n",
    "from sklearn.linear_model import LinearRegression\n",
    "from sklearn.metrics import mean_squared_error\n",
    "from sklearn.model_selection import train_test_split\n",
    "\n",
    "data = pd.read_csv('AAPL.csv')\n",
    "train, temp_data = train_test_split(data, test_size=0.4, random_state=0)\n",
    "validate, test = train_test_split(temp_data, test_size=0.5, random_state=0)\n",
    "\n",
    "# for initial implementation, we will only include the open and close price\n",
    "train_inputs = train[['Open']]\n",
    "train_targets = train['Close']\n",
    "valid_inputs = validate[['Open']]\n",
    "valid_targets = validate['Close']\n",
    "test_inputs = test[['Open']]\n",
    "test_targets = test['Close']"
   ]
  },
  {
   "cell_type": "code",
   "execution_count": 12,
   "id": "a708e671",
   "metadata": {},
   "outputs": [
    {
     "data": {
      "text/plain": [
       "0.8482328110055275"
      ]
     },
     "execution_count": 12,
     "metadata": {},
     "output_type": "execute_result"
    }
   ],
   "source": [
    "lr = LinearRegression()\n",
    "lr.fit(train_inputs, train_targets)\n",
    "predictions = lr.predict(valid_inputs)\n",
    "mean_squared_error(valid_targets, predictions)"
   ]
  },
  {
   "cell_type": "markdown",
   "id": "cb1ba702-b116-4e6f-8f24-c906a1fec428",
   "metadata": {},
   "source": [
    "https://pieriantraining.com/tensorflow-lstm-example-a-beginners-guide/"
   ]
  },
  {
   "cell_type": "code",
   "execution_count": 21,
   "id": "b5ce7eca-f6d1-4901-ba70-89aeb50f711e",
   "metadata": {},
   "outputs": [
    {
     "name": "stdout",
     "output_type": "stream",
     "text": [
      "Epoch 1/100\n"
     ]
    },
    {
     "name": "stderr",
     "output_type": "stream",
     "text": [
      "/usr/local/lib/python3.10/dist-packages/keras/src/layers/rnn/rnn.py:204: UserWarning: Do not pass an `input_shape`/`input_dim` argument to a layer. When using Sequential models, prefer using an `Input(shape)` object as the first layer in the model instead.\n",
      "  super().__init__(**kwargs)\n"
     ]
    },
    {
     "name": "stdout",
     "output_type": "stream",
     "text": [
      "5945/5945 - 12s - 2ms/step - loss: 1259.4883\n",
      "Epoch 2/100\n",
      "5945/5945 - 10s - 2ms/step - loss: 211.7056\n",
      "Epoch 3/100\n",
      "5945/5945 - 27s - 5ms/step - loss: 97.9356\n",
      "Epoch 4/100\n",
      "5945/5945 - 12s - 2ms/step - loss: 65.9617\n",
      "Epoch 5/100\n",
      "5945/5945 - 13s - 2ms/step - loss: 59.4772\n",
      "Epoch 6/100\n",
      "5945/5945 - 15s - 3ms/step - loss: 53.4659\n",
      "Epoch 7/100\n",
      "5945/5945 - 12s - 2ms/step - loss: 47.3706\n",
      "Epoch 8/100\n",
      "5945/5945 - 7s - 1ms/step - loss: 38.4740\n",
      "Epoch 9/100\n",
      "5945/5945 - 7s - 1ms/step - loss: 38.7062\n",
      "Epoch 10/100\n",
      "5945/5945 - 7s - 1ms/step - loss: 51.1075\n",
      "Epoch 11/100\n",
      "5945/5945 - 9s - 1ms/step - loss: 59.9914\n",
      "Train Score: 35.20 MSE (5.93 RMSE)\n",
      "Validation Score: 20.14 MSE (4.49 RMSE)\n",
      "Test Score: 39.78 MSE (6.31 RMSE)\n"
     ]
    }
   ],
   "source": [
    "import tensorflow as tf\n",
    "from tensorflow.keras.models import Sequential\n",
    "from tensorflow.keras.layers import LSTM, Dense\n",
    "\n",
    "model = Sequential()\n",
    "model.add(LSTM(units=128, return_sequences=True, input_shape=(train_inputs.shape[0], train_inputs.shape[1])))\n",
    "\n",
    "#model.add(LSTM(units=64, return_sequences=True))\n",
    "#model.add(LSTM(units=64, return_sequences=True))\n",
    "\n",
    "model.add(Dense(units=1))\n",
    "model.compile(loss='mean_squared_error', optimizer='adam')\n",
    "\n",
    "from keras.callbacks import EarlyStopping\n",
    "early_stopping = EarlyStopping(monitor='loss', patience=3)\n",
    "model.fit(train_inputs, train_targets, epochs=100, batch_size=1, verbose=2, callbacks=[early_stopping])\n",
    "\n",
    "#plt.plot(history.history['loss'])\n",
    "#plt.title('Model Loss')\n",
    "#plt.ylabel('Loss')\n",
    "#plt.xlabel('Epoch')\n",
    "#plt.show()\n",
    "\n",
    "trainScore = model.evaluate(train_inputs, train_targets, verbose=0)\n",
    "print('Train Score: %.2f MSE (%.2f RMSE)' % (trainScore, np.sqrt(trainScore)))\n",
    "validScore = model.evaluate(valid_inputs, valid_targets, verbose=0)\n",
    "print('Validation Score: %.2f MSE (%.2f RMSE)' % (testScore, np.sqrt(testScore)))\n",
    "testScore = model.evaluate(test_inputs, test_targets, verbose=0)\n",
    "print('Test Score: %.2f MSE (%.2f RMSE)' % (testScore, np.sqrt(testScore)))"
   ]
  }
 ],
 "metadata": {
  "kernelspec": {
   "display_name": "Python 3 (ipykernel)",
   "language": "python",
   "name": "python3"
  },
  "language_info": {
   "codemirror_mode": {
    "name": "ipython",
    "version": 3
   },
   "file_extension": ".py",
   "mimetype": "text/x-python",
   "name": "python",
   "nbconvert_exporter": "python",
   "pygments_lexer": "ipython3",
   "version": "3.10.12"
  }
 },
 "nbformat": 4,
 "nbformat_minor": 5
}
